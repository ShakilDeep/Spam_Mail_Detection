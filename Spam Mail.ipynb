{
 "cells": [
  {
   "cell_type": "markdown",
   "source": [
    "## Spam Mail Prediction using Machine Learning with Python"
   ],
   "metadata": {
    "collapsed": false,
    "pycharm": {
     "name": "#%% md\n"
    }
   }
  },
  {
   "cell_type": "code",
   "execution_count": 1,
   "outputs": [],
   "source": [
    "import numpy as np\n",
    "import pandas as pd\n",
    "from sklearn.model_selection import train_test_split\n",
    "from sklearn.feature_extraction.text import TfidfVectorizer\n",
    "from sklearn.linear_model import LogisticRegression\n",
    "from sklearn.metrics import accuracy_score"
   ],
   "metadata": {
    "collapsed": false,
    "pycharm": {
     "name": "#%%\n"
    }
   }
  },
  {
   "cell_type": "code",
   "execution_count": 2,
   "outputs": [],
   "source": [
    "spam = pd.read_csv('Data/mail_data.csv')"
   ],
   "metadata": {
    "collapsed": false,
    "pycharm": {
     "name": "#%%\n"
    }
   }
  },
  {
   "cell_type": "code",
   "execution_count": 3,
   "outputs": [
    {
     "data": {
      "text/plain": "  Category                                            Message\n0      ham  Go until jurong point, crazy.. Available only ...\n1      ham                      Ok lar... Joking wif u oni...\n2     spam  Free entry in 2 a wkly comp to win FA Cup fina...\n3      ham  U dun say so early hor... U c already then say...\n4      ham  Nah I don't think he goes to usf, he lives aro...",
      "text/html": "<div>\n<style scoped>\n    .dataframe tbody tr th:only-of-type {\n        vertical-align: middle;\n    }\n\n    .dataframe tbody tr th {\n        vertical-align: top;\n    }\n\n    .dataframe thead th {\n        text-align: right;\n    }\n</style>\n<table border=\"1\" class=\"dataframe\">\n  <thead>\n    <tr style=\"text-align: right;\">\n      <th></th>\n      <th>Category</th>\n      <th>Message</th>\n    </tr>\n  </thead>\n  <tbody>\n    <tr>\n      <th>0</th>\n      <td>ham</td>\n      <td>Go until jurong point, crazy.. Available only ...</td>\n    </tr>\n    <tr>\n      <th>1</th>\n      <td>ham</td>\n      <td>Ok lar... Joking wif u oni...</td>\n    </tr>\n    <tr>\n      <th>2</th>\n      <td>spam</td>\n      <td>Free entry in 2 a wkly comp to win FA Cup fina...</td>\n    </tr>\n    <tr>\n      <th>3</th>\n      <td>ham</td>\n      <td>U dun say so early hor... U c already then say...</td>\n    </tr>\n    <tr>\n      <th>4</th>\n      <td>ham</td>\n      <td>Nah I don't think he goes to usf, he lives aro...</td>\n    </tr>\n  </tbody>\n</table>\n</div>"
     },
     "execution_count": 3,
     "metadata": {},
     "output_type": "execute_result"
    }
   ],
   "source": [
    "spam.head()"
   ],
   "metadata": {
    "collapsed": false,
    "pycharm": {
     "name": "#%%\n"
    }
   }
  },
  {
   "cell_type": "code",
   "execution_count": 4,
   "outputs": [
    {
     "data": {
      "text/plain": "       Category                 Message\ncount      5572                    5572\nunique        2                    5157\ntop         ham  Sorry, I'll call later\nfreq       4825                      30",
      "text/html": "<div>\n<style scoped>\n    .dataframe tbody tr th:only-of-type {\n        vertical-align: middle;\n    }\n\n    .dataframe tbody tr th {\n        vertical-align: top;\n    }\n\n    .dataframe thead th {\n        text-align: right;\n    }\n</style>\n<table border=\"1\" class=\"dataframe\">\n  <thead>\n    <tr style=\"text-align: right;\">\n      <th></th>\n      <th>Category</th>\n      <th>Message</th>\n    </tr>\n  </thead>\n  <tbody>\n    <tr>\n      <th>count</th>\n      <td>5572</td>\n      <td>5572</td>\n    </tr>\n    <tr>\n      <th>unique</th>\n      <td>2</td>\n      <td>5157</td>\n    </tr>\n    <tr>\n      <th>top</th>\n      <td>ham</td>\n      <td>Sorry, I'll call later</td>\n    </tr>\n    <tr>\n      <th>freq</th>\n      <td>4825</td>\n      <td>30</td>\n    </tr>\n  </tbody>\n</table>\n</div>"
     },
     "execution_count": 4,
     "metadata": {},
     "output_type": "execute_result"
    }
   ],
   "source": [
    "spam.describe()"
   ],
   "metadata": {
    "collapsed": false,
    "pycharm": {
     "name": "#%%\n"
    }
   }
  },
  {
   "cell_type": "code",
   "execution_count": 5,
   "outputs": [
    {
     "data": {
      "text/plain": "(5572, 2)"
     },
     "execution_count": 5,
     "metadata": {},
     "output_type": "execute_result"
    }
   ],
   "source": [
    "spam.shape"
   ],
   "metadata": {
    "collapsed": false,
    "pycharm": {
     "name": "#%%\n"
    }
   }
  },
  {
   "cell_type": "code",
   "execution_count": 6,
   "outputs": [
    {
     "name": "stdout",
     "output_type": "stream",
     "text": [
      "<class 'pandas.core.frame.DataFrame'>\n",
      "RangeIndex: 5572 entries, 0 to 5571\n",
      "Data columns (total 2 columns):\n",
      " #   Column    Non-Null Count  Dtype \n",
      "---  ------    --------------  ----- \n",
      " 0   Category  5572 non-null   object\n",
      " 1   Message   5572 non-null   object\n",
      "dtypes: object(2)\n",
      "memory usage: 87.2+ KB\n"
     ]
    }
   ],
   "source": [
    "spam.info()"
   ],
   "metadata": {
    "collapsed": false,
    "pycharm": {
     "name": "#%%\n"
    }
   }
  },
  {
   "cell_type": "code",
   "execution_count": 7,
   "outputs": [
    {
     "data": {
      "text/plain": "Category    0\nMessage     0\ndtype: int64"
     },
     "execution_count": 7,
     "metadata": {},
     "output_type": "execute_result"
    }
   ],
   "source": [
    "spam.isnull().sum()"
   ],
   "metadata": {
    "collapsed": false,
    "pycharm": {
     "name": "#%%\n"
    }
   }
  },
  {
   "cell_type": "code",
   "execution_count": 8,
   "outputs": [
    {
     "data": {
      "text/plain": "       Category                 Message\ncount      5572                    5572\nunique        2                    5157\ntop         ham  Sorry, I'll call later\nfreq       4825                      30",
      "text/html": "<div>\n<style scoped>\n    .dataframe tbody tr th:only-of-type {\n        vertical-align: middle;\n    }\n\n    .dataframe tbody tr th {\n        vertical-align: top;\n    }\n\n    .dataframe thead th {\n        text-align: right;\n    }\n</style>\n<table border=\"1\" class=\"dataframe\">\n  <thead>\n    <tr style=\"text-align: right;\">\n      <th></th>\n      <th>Category</th>\n      <th>Message</th>\n    </tr>\n  </thead>\n  <tbody>\n    <tr>\n      <th>count</th>\n      <td>5572</td>\n      <td>5572</td>\n    </tr>\n    <tr>\n      <th>unique</th>\n      <td>2</td>\n      <td>5157</td>\n    </tr>\n    <tr>\n      <th>top</th>\n      <td>ham</td>\n      <td>Sorry, I'll call later</td>\n    </tr>\n    <tr>\n      <th>freq</th>\n      <td>4825</td>\n      <td>30</td>\n    </tr>\n  </tbody>\n</table>\n</div>"
     },
     "execution_count": 8,
     "metadata": {},
     "output_type": "execute_result"
    }
   ],
   "source": [
    "spam.describe()"
   ],
   "metadata": {
    "collapsed": false,
    "pycharm": {
     "name": "#%%\n"
    }
   }
  },
  {
   "cell_type": "code",
   "execution_count": 9,
   "outputs": [
    {
     "data": {
      "text/plain": "ham     4825\nspam     747\nName: Category, dtype: int64"
     },
     "execution_count": 9,
     "metadata": {},
     "output_type": "execute_result"
    }
   ],
   "source": [
    "'''\n",
    "do some data analysis\n",
    "'''\n",
    "spam['Category'].value_counts()"
   ],
   "metadata": {
    "collapsed": false,
    "pycharm": {
     "name": "#%%\n"
    }
   }
  },
  {
   "cell_type": "code",
   "execution_count": 10,
   "outputs": [
    {
     "data": {
      "text/plain": "ham     0.865937\nspam    0.134063\nName: Category, dtype: float64"
     },
     "execution_count": 10,
     "metadata": {},
     "output_type": "execute_result"
    }
   ],
   "source": [
    "spam['Category'].value_counts(normalize=True)"
   ],
   "metadata": {
    "collapsed": false,
    "pycharm": {
     "name": "#%%\n"
    }
   }
  },
  {
   "cell_type": "code",
   "execution_count": 11,
   "outputs": [
    {
     "data": {
      "text/plain": "<AxesSubplot:>"
     },
     "execution_count": 11,
     "metadata": {},
     "output_type": "execute_result"
    },
    {
     "data": {
      "text/plain": "<Figure size 432x288 with 1 Axes>",
      "image/png": "[encoded data removed]"
     },
     "metadata": {
      "needs_background": "light"
     },
     "output_type": "display_data"
    }
   ],
   "source": [
    "spam['Category'].value_counts().plot.bar()"
   ],
   "metadata": {
    "collapsed": false,
    "pycharm": {
     "name": "#%%\n"
    }
   }
  },
  {
   "cell_type": "code",
   "execution_count": 12,
   "outputs": [
    {
     "data": {
      "text/plain": "<Figure size 576x432 with 1 Axes>",
      "image/png": "[encoded data removed]"
     },
     "metadata": {
      "needs_background": "light"
     },
     "output_type": "display_data"
    },
    {
     "data": {
      "text/plain": "<Figure size 576x432 with 1 Axes>",
      "image/png": "[encoded data removed]"
     },
     "metadata": {
      "needs_background": "light"
     },
     "output_type": "display_data"
    }
   ],
   "source": [
    "# Calculate ham and spam counts\n",
    "import matplotlib.pyplot as plt\n",
    "spam['ham_count'] = spam['Message'].str.count('\\n')\n",
    "spam['spam_count'] = spam['Message'].str.count('Spam')\n",
    "\n",
    "# Plot histogram for ham messages\n",
    "plt.figure(figsize=(8, 6))\n",
    "plt.hist(spam['ham_count'], bins=50, color='#4c72b0', alpha=0.8)\n",
    "plt.xlabel('Number of Ham messages')\n",
    "plt.ylabel('Frequency')\n",
    "plt.title('Distribution of Ham Messages')\n",
    "plt.grid(axis='y', alpha=0.5)\n",
    "plt.tight_layout()\n",
    "plt.show()\n",
    "\n",
    "# Plot histogram for spam messages\n",
    "plt.figure(figsize=(8, 6))\n",
    "plt.hist(spam['spam_count'], bins=50, color='#55a868', alpha=0.8)\n",
    "plt.xlabel('Number of Spam messages')\n",
    "plt.ylabel('Frequency')\n",
    "plt.title('Distribution of Spam Messages')\n",
    "plt.grid(axis='y', alpha=0.5)\n",
    "plt.tight_layout()\n",
    "plt.show()"
   ],
   "metadata": {
    "collapsed": false,
    "pycharm": {
     "name": "#%%\n"
    }
   }
  },
  {
   "cell_type": "code",
   "execution_count": 13,
   "outputs": [
    {
     "data": {
      "text/plain": "         ham_count  spam_count\ncount  5572.000000      5572.0\nmean      0.000359         0.0\nstd       0.026793         0.0\nmin       0.000000         0.0\n25%       0.000000         0.0\n50%       0.000000         0.0\n75%       0.000000         0.0\nmax       2.000000         0.0",
      "text/html": "<div>\n<style scoped>\n    .dataframe tbody tr th:only-of-type {\n        vertical-align: middle;\n    }\n\n    .dataframe tbody tr th {\n        vertical-align: top;\n    }\n\n    .dataframe thead th {\n        text-align: right;\n    }\n</style>\n<table border=\"1\" class=\"dataframe\">\n  <thead>\n    <tr style=\"text-align: right;\">\n      <th></th>\n      <th>ham_count</th>\n      <th>spam_count</th>\n    </tr>\n  </thead>\n  <tbody>\n    <tr>\n      <th>count</th>\n      <td>5572.000000</td>\n      <td>5572.0</td>\n    </tr>\n    <tr>\n      <th>mean</th>\n      <td>0.000359</td>\n      <td>0.0</td>\n    </tr>\n    <tr>\n      <th>std</th>\n      <td>0.026793</td>\n      <td>0.0</td>\n    </tr>\n    <tr>\n      <th>min</th>\n      <td>0.000000</td>\n      <td>0.0</td>\n    </tr>\n    <tr>\n      <th>25%</th>\n      <td>0.000000</td>\n      <td>0.0</td>\n    </tr>\n    <tr>\n      <th>50%</th>\n      <td>0.000000</td>\n      <td>0.0</td>\n    </tr>\n    <tr>\n      <th>75%</th>\n      <td>0.000000</td>\n      <td>0.0</td>\n    </tr>\n    <tr>\n      <th>max</th>\n      <td>2.000000</td>\n      <td>0.0</td>\n    </tr>\n  </tbody>\n</table>\n</div>"
     },
     "execution_count": 13,
     "metadata": {},
     "output_type": "execute_result"
    }
   ],
   "source": [
    "spam.describe()"
   ],
   "metadata": {
    "collapsed": false,
    "pycharm": {
     "name": "#%%\n"
    }
   }
  },
  {
   "cell_type": "code",
   "execution_count": 14,
   "outputs": [
    {
     "name": "stdout",
     "output_type": "stream",
     "text": [
      "<class 'pandas.core.frame.DataFrame'>\n",
      "RangeIndex: 5572 entries, 0 to 5571\n",
      "Data columns (total 4 columns):\n",
      " #   Column      Non-Null Count  Dtype \n",
      "---  ------      --------------  ----- \n",
      " 0   Category    5572 non-null   object\n",
      " 1   Message     5572 non-null   object\n",
      " 2   ham_count   5572 non-null   int64 \n",
      " 3   spam_count  5572 non-null   int64 \n",
      "dtypes: int64(2), object(2)\n",
      "memory usage: 174.2+ KB\n"
     ]
    }
   ],
   "source": [
    "spam.info()"
   ],
   "metadata": {
    "collapsed": false,
    "pycharm": {
     "name": "#%%\n"
    }
   }
  },
  {
   "cell_type": "code",
   "execution_count": 15,
   "outputs": [],
   "source": [
    "# label spam mail as 0;  ham mail as 1;\n",
    "spam.loc[spam['Category']=='spam', 'Category'] = 0\n",
    "spam.loc[spam['Category']=='ham', 'Category'] = 1"
   ],
   "metadata": {
    "collapsed": false,
    "pycharm": {
     "name": "#%%\n"
    }
   }
  },
  {
   "cell_type": "code",
   "execution_count": 16,
   "outputs": [
    {
     "data": {
      "text/plain": "  Category                                            Message  ham_count  \\\n0        1  Go until jurong point, crazy.. Available only ...          0   \n1        1                      Ok lar... Joking wif u oni...          0   \n2        0  Free entry in 2 a wkly comp to win FA Cup fina...          0   \n3        1  U dun say so early hor... U c already then say...          0   \n4        1  Nah I don't think he goes to usf, he lives aro...          0   \n\n   spam_count  \n0           0  \n1           0  \n2           0  \n3           0  \n4           0  ",
      "text/html": "<div>\n<style scoped>\n    .dataframe tbody tr th:only-of-type {\n        vertical-align: middle;\n    }\n\n    .dataframe tbody tr th {\n        vertical-align: top;\n    }\n\n    .dataframe thead th {\n        text-align: right;\n    }\n</style>\n<table border=\"1\" class=\"dataframe\">\n  <thead>\n    <tr style=\"text-align: right;\">\n      <th></th>\n      <th>Category</th>\n      <th>Message</th>\n      <th>ham_count</th>\n      <th>spam_count</th>\n    </tr>\n  </thead>\n  <tbody>\n    <tr>\n      <th>0</th>\n      <td>1</td>\n      <td>Go until jurong point, crazy.. Available only ...</td>\n      <td>0</td>\n      <td>0</td>\n    </tr>\n    <tr>\n      <th>1</th>\n      <td>1</td>\n      <td>Ok lar... Joking wif u oni...</td>\n      <td>0</td>\n      <td>0</td>\n    </tr>\n    <tr>\n      <th>2</th>\n      <td>0</td>\n      <td>Free entry in 2 a wkly comp to win FA Cup fina...</td>\n      <td>0</td>\n      <td>0</td>\n    </tr>\n    <tr>\n      <th>3</th>\n      <td>1</td>\n      <td>U dun say so early hor... U c already then say...</td>\n      <td>0</td>\n      <td>0</td>\n    </tr>\n    <tr>\n      <th>4</th>\n      <td>1</td>\n      <td>Nah I don't think he goes to usf, he lives aro...</td>\n      <td>0</td>\n      <td>0</td>\n    </tr>\n  </tbody>\n</table>\n</div>"
     },
     "execution_count": 16,
     "metadata": {},
     "output_type": "execute_result"
    }
   ],
   "source": [
    "spam.head()"
   ],
   "metadata": {
    "collapsed": false,
    "pycharm": {
     "name": "#%%\n"
    }
   }
  },
  {
   "cell_type": "code",
   "execution_count": 17,
   "outputs": [],
   "source": [
    "X =  spam['Message']\n",
    "y =  spam['Category']"
   ],
   "metadata": {
    "collapsed": false,
    "pycharm": {
     "name": "#%%\n"
    }
   }
  },
  {
   "cell_type": "code",
   "execution_count": 18,
   "outputs": [
    {
     "data": {
      "text/plain": "0       Go until jurong point, crazy.. Available only ...\n1                           Ok lar... Joking wif u oni...\n2       Free entry in 2 a wkly comp to win FA Cup fina...\n3       U dun say so early hor... U c already then say...\n4       Nah I don't think he goes to usf, he lives aro...\n                              ...                        \n5567    This is the 2nd time we have tried 2 contact u...\n5568                 Will ü b going to esplanade fr home?\n5569    Pity, * was in mood for that. So...any other s...\n5570    The guy did some bitching but I acted like i'd...\n5571                           Rofl. Its true to its name\nName: Message, Length: 5572, dtype: object"
     },
     "execution_count": 18,
     "metadata": {},
     "output_type": "execute_result"
    }
   ],
   "source": [
    "X"
   ],
   "metadata": {
    "collapsed": false,
    "pycharm": {
     "name": "#%%\n"
    }
   }
  },
  {
   "cell_type": "code",
   "execution_count": 19,
   "outputs": [
    {
     "data": {
      "text/plain": "0       1\n1       1\n2       0\n3       1\n4       1\n       ..\n5567    0\n5568    1\n5569    1\n5570    1\n5571    1\nName: Category, Length: 5572, dtype: object"
     },
     "execution_count": 19,
     "metadata": {},
     "output_type": "execute_result"
    }
   ],
   "source": [
    "y"
   ],
   "metadata": {
    "collapsed": false,
    "pycharm": {
     "name": "#%%\n"
    }
   }
  },
  {
   "cell_type": "code",
   "execution_count": 20,
   "outputs": [],
   "source": [
    "# split the data into train and test sets\n",
    "X_train, X_test, y_train, y_test = train_test_split(X, y, random_state=42, test_size=0.2, shuffle=True)"
   ],
   "metadata": {
    "collapsed": false,
    "pycharm": {
     "name": "#%%\n"
    }
   }
  },
  {
   "cell_type": "code",
   "execution_count": 35,
   "outputs": [
    {
     "name": "stdout",
     "output_type": "stream",
     "text": [
      "The email 'go until jurong point crazy available only in bugis n great world la e buffet cine there got amore wat' is classified as: \u001B[31mHam\u001B[0m\n",
      "The email 'ok lar joking wif u oni' is classified as: \u001B[31mHam\u001B[0m\n",
      "The email 'free entry in 2 a wkly comp to win fa cup final tkts 21st may 2005 text fa to 87121 to receive entry questionstd txt ratetcs apply 08452810075over18s' is classified as: \u001B[31mHam\u001B[0m\n",
      "The email 'u dun say so early hor u c already then say' is classified as: \u001B[31mHam\u001B[0m\n",
      "The email 'nah i dont think he goes to usf he lives around here though' is classified as: \u001B[31mHam\u001B[0m\n",
      "The email 'urgent you have won a 7day allexpensespaid trip reply win to claim' is classified as: \u001B[31mHam\u001B[0m\n",
      "The email 'whats up are you free for a movie tonight' is classified as: \u001B[31mHam\u001B[0m\n",
      "The email 'congratulations youve been selected for a cash prize reply claim to receive details' is classified as: \u001B[31mHam\u001B[0m\n",
      "The email 'im running late will be there in 10 minutes' is classified as: \u001B[31mHam\u001B[0m\n",
      "The email 'get a new iphone for free limited stock reply now to get yours' is classified as: \u001B[31mHam\u001B[0m\n",
      "The email 'hey there we noticed you havent responded to our previous offer reply now to claim your discount' is classified as: \u001B[31mHam\u001B[0m\n",
      "The email 'just finished watching the movie it was great' is classified as: \u001B[31mHam\u001B[0m\n"
     ]
    }
   ],
   "source": [
    "import string\n",
    "from sklearn.feature_extraction.text import TfidfVectorizer\n",
    "from sklearn.linear_model import LogisticRegression\n",
    "\n",
    "# Data\n",
    "data = [\n",
    "    ('ham', \"Go until jurong point, crazy.. Available only in bugis n great world la e buffet... Cine there got amore wat...\"),\n",
    "    ('ham', \"Ok lar... Joking wif u oni...\"),\n",
    "    ('spam', \"Free entry in 2 a wkly comp to win FA Cup final tkts 21st May 2005. Text FA to 87121 to receive entry question(std txt rate)T&C's apply 08452810075over18's\"),\n",
    "    ('ham', \"U dun say so early hor... U c already then say...\"),\n",
    "    ('ham', \"Nah I don't think he goes to usf, he lives around here though\"),\n",
    "    ('spam', \"URGENT! You have won a 7-day all-expenses-paid trip. Reply WIN to claim.\"),\n",
    "    ('ham', \"What's up? Are you free for a movie tonight?\"),\n",
    "    ('spam', \"Congratulations! You've been selected for a cash prize. Reply CLAIM to receive details.\"),\n",
    "    ('ham', \"I'm running late. Will be there in 10 minutes.\"),\n",
    "    ('spam', \"Get a new iPhone for free! Limited stock. Reply NOW to get yours.\"),\n",
    "    ('spam', \"Hey there! We noticed you haven't responded to our previous offer. Reply NOW to claim your discount.\"),\n",
    "    ('ham', \"Just finished watching the movie. It was great!\")\n",
    "]\n",
    "\n",
    "# Separate data into messages and labels\n",
    "messages, labels = zip(*data)\n",
    "\n",
    "# Text preprocessing\n",
    "translator = str.maketrans('', '', string.punctuation)\n",
    "\n",
    "messages = [text.lower().translate(translator) for text in messages]\n",
    "\n",
    "# Vectorization\n",
    "vectorizer = TfidfVectorizer()\n",
    "X = vectorizer.fit_transform(messages)\n",
    "y = list(labels)\n",
    "\n",
    "# Train the model\n",
    "clf = LogisticRegression()\n",
    "clf.fit(X, y)\n",
    "\n",
    "# Classify all emails\n",
    "all_emails = [\n",
    "    \"Go until jurong point, crazy.. Available only in bugis n great world la e buffet... Cine there got amore wat...\",\n",
    "    \"Ok lar... Joking wif u oni...\",\n",
    "    \"Free entry in 2 a wkly comp to win FA Cup final tkts 21st May 2005. Text FA to 87121 to receive entry question(std txt rate)T&C's apply 08452810075over18's\",\n",
    "    \"U dun say so early hor... U c already then say...\",\n",
    "    \"Nah I don't think he goes to usf, he lives around here though\",\n",
    "    \"URGENT! You have won a 7-day all-expenses-paid trip. Reply WIN to claim.\",\n",
    "    \"What's up? Are you free for a movie tonight?\",\n",
    "    \"Congratulations! You've been selected for a cash prize. Reply CLAIM to receive details.\",\n",
    "    \"I'm running late. Will be there in 10 minutes.\",\n",
    "    \"Get a new iPhone for free! Limited stock. Reply NOW to get yours.\",\n",
    "    \"Hey there! We noticed you haven't responded to our previous offer. Reply NOW to claim your discount.\",\n",
    "    \"Just finished watching the movie. It was great!\"\n",
    "]\n",
    "\n",
    "all_emails = [email.lower().translate(translator) for email in all_emails]\n",
    "all_emails_vectorized = vectorizer.transform(all_emails)\n",
    "predictions = clf.predict(all_emails_vectorized)\n",
    "\n",
    "# Display email classifications\n",
    "for email, prediction in zip(all_emails, predictions):\n",
    "    if prediction == 'spam':\n",
    "        label = '\\033[31mSpam\\033[0m'  # Red color for spam\n",
    "    else:\n",
    "        label = 'Ham'\n",
    "    print(f\"The email '{email}' is classified as: \\033[31m{label}\\033[0m\")"
   ],
   "metadata": {
    "collapsed": false,
    "pycharm": {
     "name": "#%%\n"
    }
   }
  },
  {
   "cell_type": "code",
   "execution_count": null,
   "outputs": [],
   "source": [],
   "metadata": {
    "collapsed": false,
    "pycharm": {
     "name": "#%%\n"
    }
   }
  }
 ],
 "metadata": {
  "kernelspec": {
   "display_name": "Python 3",
   "language": "python",
   "name": "python3"
  },
  "language_info": {
   "codemirror_mode": {
    "name": "ipython",
    "version": 2
   },
   "file_extension": ".py",
   "mimetype": "text/x-python",
   "name": "python",
   "nbconvert_exporter": "python",
   "pygments_lexer": "ipython2",
   "version": "2.7.6"
  }
 },
 "nbformat": 4,
 "nbformat_minor": 0
}